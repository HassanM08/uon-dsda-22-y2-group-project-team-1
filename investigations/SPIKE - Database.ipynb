{
 "cells": [
  {
   "cell_type": "code",
   "execution_count": 1,
   "id": "f4d2655e",
   "metadata": {},
   "outputs": [],
   "source": [
    "import psycopg2\n",
    "import pandas as pd\n",
    "import numpy as np\n",
    "from configparser import ConfigParser\n",
    "from sqlalchemy import create_engine, engine_from_config\n",
    "from sqlalchemy.engine import URL\n",
    "\n",
    "# Our libraries.\n",
    "from config import config\n",
    "from connect import connect\n",
    "from query import query\n",
    "from create_table import table_from_df\n",
    "from get_postcode_mapping_table import get_postcode_mapping_table"
   ]
  },
  {
   "cell_type": "code",
   "execution_count": 2,
   "id": "592a33a9",
   "metadata": {},
   "outputs": [
    {
     "name": "stderr",
     "output_type": "stream",
     "text": [
      "C:\\Users\\gatkinson\\Anaconda3\\lib\\site-packages\\IPython\\core\\interactiveshell.py:3400: DtypeWarning: Columns (13) have mixed types.Specify dtype option on import or set low_memory=False.\n",
      "  if await self.run_code(code, result, async_=asy):\n"
     ]
    }
   ],
   "source": [
    "# currently using dummy excel files to read in as DataFrames\n",
    "\n",
    "listings_df = pd.read_excel(r'listings_test.xlsx')\n",
    "sold_df = pd.read_excel(r'sold_test.xlsx')\n",
    "\n",
    "postcode_df = get_postcode_mapping_table()"
   ]
  },
  {
   "cell_type": "code",
   "execution_count": 3,
   "id": "b7651c6a",
   "metadata": {},
   "outputs": [
    {
     "name": "stdout",
     "output_type": "stream",
     "text": [
      "Connecting to the PostgreSQL database...\n",
      "Table listings created\n",
      "Database connection closed.\n"
     ]
    }
   ],
   "source": [
    "# create new database tables from listings and sold DataFrames.\n",
    "\n",
    "table_from_df(listings_df, 'listings')"
   ]
  },
  {
   "cell_type": "code",
   "execution_count": 4,
   "id": "89b000b0",
   "metadata": {},
   "outputs": [
    {
     "name": "stdout",
     "output_type": "stream",
     "text": [
      "Connecting to the PostgreSQL database...\n",
      "Table sold created\n",
      "Database connection closed.\n"
     ]
    }
   ],
   "source": [
    "table_from_df(sold_df, 'sold')"
   ]
  },
  {
   "cell_type": "code",
   "execution_count": 5,
   "id": "73cd3ff6",
   "metadata": {},
   "outputs": [
    {
     "name": "stdout",
     "output_type": "stream",
     "text": [
      "Connecting to the PostgreSQL database...\n",
      "Table postcodes created\n",
      "Database connection closed.\n"
     ]
    }
   ],
   "source": [
    "table_from_df(postcode_df, 'postcodes')"
   ]
  },
  {
   "cell_type": "code",
   "execution_count": 10,
   "id": "9a7fc646",
   "metadata": {},
   "outputs": [
    {
     "name": "stdout",
     "output_type": "stream",
     "text": [
      "Section postgresql not found in the config.ini file\n"
     ]
    }
   ],
   "source": [
    "# Join location data to sold and listings tables from postcodes table.\n",
    "\n",
    "query('ALTER TABLE listings ADD COLUMN district VARCHAR(100);','listings', output = None)\n"
   ]
  },
  {
   "cell_type": "code",
   "execution_count": 7,
   "id": "cab9cd4b",
   "metadata": {},
   "outputs": [
    {
     "name": "stdout",
     "output_type": "stream",
     "text": [
      "Connecting to the PostgreSQL database...\n",
      "Query executed.\n",
      "no results to fetch\n",
      "Database connection closed.\n"
     ]
    }
   ],
   "source": [
    "query('UPDATE listings SET district = ladnm FROM postcodes WHERE listings.address = postcodes.pcds;','listings', output = None)\n"
   ]
  },
  {
   "cell_type": "code",
   "execution_count": 8,
   "id": "ff4411a0",
   "metadata": {},
   "outputs": [
    {
     "name": "stdout",
     "output_type": "stream",
     "text": [
      "Connecting to the PostgreSQL database...\n",
      "Query executed.\n",
      "no results to fetch\n",
      "Database connection closed.\n"
     ]
    }
   ],
   "source": [
    "query('ALTER TABLE sold ADD COLUMN district VARCHAR(100);','sold', output = None)\n"
   ]
  },
  {
   "cell_type": "code",
   "execution_count": 9,
   "id": "bf9dbf85",
   "metadata": {},
   "outputs": [
    {
     "name": "stdout",
     "output_type": "stream",
     "text": [
      "Connecting to the PostgreSQL database...\n",
      "Query executed.\n",
      "no results to fetch\n",
      "Database connection closed.\n"
     ]
    }
   ],
   "source": [
    "query('UPDATE sold SET district = ladnm FROM postcodes WHERE sold.address = postcodes.pcds;','sold', output = None)"
   ]
  },
  {
   "cell_type": "code",
   "execution_count": null,
   "id": "971ca2fb",
   "metadata": {},
   "outputs": [],
   "source": [
    "# Extract sold table to train ML model on\n",
    "\n",
    "sold_export = query('SELECT * FROM sold', 'sold', output = 'df')"
   ]
  },
  {
   "cell_type": "code",
   "execution_count": null,
   "id": "64d695a9",
   "metadata": {},
   "outputs": [],
   "source": [
    "sold_export"
   ]
  },
  {
   "cell_type": "code",
   "execution_count": null,
   "id": "24b22d84",
   "metadata": {},
   "outputs": [],
   "source": [
    "# Extract listings table to make predictions on\n",
    "\n",
    "listings_export = query('SELECT * FROM listings', 'listings', output = 'df')"
   ]
  },
  {
   "cell_type": "code",
   "execution_count": null,
   "id": "2601713d",
   "metadata": {},
   "outputs": [],
   "source": [
    "listings_export"
   ]
  },
  {
   "cell_type": "code",
   "execution_count": null,
   "id": "75d93027",
   "metadata": {},
   "outputs": [],
   "source": [
    "# Imagine that the export has been put through the ML Pipeline and a prediction has been made.\n",
    "\n",
    "listings_export['Prediction'] = np.random.normal(listings_export['Listed Price'], 0.1*listings_export['Listed Price']).round(2)"
   ]
  },
  {
   "cell_type": "code",
   "execution_count": null,
   "id": "b107fd37",
   "metadata": {},
   "outputs": [],
   "source": [
    "listings_export['Value Delta'] = (listings_export['Prediction'] - listings_export['Listed Price']).round(2)"
   ]
  },
  {
   "cell_type": "code",
   "execution_count": null,
   "id": "0924e64a",
   "metadata": {},
   "outputs": [],
   "source": [
    "listings_export_trim = listings_export[['ID', 'Prediction', 'Value Delta']]"
   ]
  },
  {
   "cell_type": "code",
   "execution_count": null,
   "id": "9733b4f3",
   "metadata": {},
   "outputs": [],
   "source": [
    "# Feed predictions back into database as a new table.\n",
    "\n",
    "table_from_df(listings_export_trim,'predictions')"
   ]
  },
  {
   "cell_type": "code",
   "execution_count": null,
   "id": "67689847",
   "metadata": {},
   "outputs": [],
   "source": []
  }
 ],
 "metadata": {
  "kernelspec": {
   "display_name": "Python 3 (ipykernel)",
   "language": "python",
   "name": "python3"
  },
  "language_info": {
   "codemirror_mode": {
    "name": "ipython",
    "version": 3
   },
   "file_extension": ".py",
   "mimetype": "text/x-python",
   "name": "python",
   "nbconvert_exporter": "python",
   "pygments_lexer": "ipython3",
   "version": "3.8.16"
  }
 },
 "nbformat": 4,
 "nbformat_minor": 5
}
