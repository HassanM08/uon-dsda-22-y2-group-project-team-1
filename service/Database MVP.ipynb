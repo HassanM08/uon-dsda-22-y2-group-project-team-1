{
 "cells": [
  {
   "cell_type": "code",
   "execution_count": 1,
   "id": "f4d2655e",
   "metadata": {},
   "outputs": [],
   "source": [
    "import psycopg2\n",
    "import pandas as pd\n",
    "import numpy as np\n",
    "from configparser import ConfigParser\n",
    "from config import config\n",
    "from connect import connect\n",
    "from query import query\n",
    "from create_table import table_from_df\n",
    "from sqlalchemy import create_engine, engine_from_config\n",
    "from sqlalchemy.engine import URL\n"
   ]
  },
  {
   "cell_type": "code",
   "execution_count": 2,
   "id": "592a33a9",
   "metadata": {},
   "outputs": [],
   "source": [
    "# currently using dummy excel files to read in as DataFrames\n",
    "\n",
    "listings_df = pd.read_excel(r'listings_test.xlsx')\n",
    "sold_df = pd.read_excel(r'sold_test.xlsx')"
   ]
  },
  {
   "cell_type": "code",
   "execution_count": 3,
   "id": "b7651c6a",
   "metadata": {},
   "outputs": [
    {
     "name": "stdout",
     "output_type": "stream",
     "text": [
      "Connecting to the PostgreSQL database...\n",
      "Table listings created\n",
      "Database connection closed.\n"
     ]
    }
   ],
   "source": [
    "# create new database tables from listings and sold DataFrames\n",
    "\n",
    "table_from_df(listings_df, 'listings')"
   ]
  },
  {
   "cell_type": "code",
   "execution_count": 4,
   "id": "89b000b0",
   "metadata": {},
   "outputs": [
    {
     "name": "stdout",
     "output_type": "stream",
     "text": [
      "Connecting to the PostgreSQL database...\n",
      "Table sold created\n",
      "Database connection closed.\n"
     ]
    }
   ],
   "source": [
    "table_from_df(sold_df, 'sold')"
   ]
  },
  {
   "cell_type": "code",
   "execution_count": 11,
   "id": "971ca2fb",
   "metadata": {},
   "outputs": [
    {
     "name": "stdout",
     "output_type": "stream",
     "text": [
      "Connecting to the PostgreSQL database...\n",
      "Query executed.\n",
      "Database connection closed.\n"
     ]
    }
   ],
   "source": [
    "# Extract sold table to train ML model on\n",
    "\n",
    "sold_export = query('SELECT * FROM sold', 'sold', to_df = True)"
   ]
  },
  {
   "cell_type": "code",
   "execution_count": 12,
   "id": "64d695a9",
   "metadata": {},
   "outputs": [
    {
     "data": {
      "text/html": [
       "<div>\n",
       "<style scoped>\n",
       "    .dataframe tbody tr th:only-of-type {\n",
       "        vertical-align: middle;\n",
       "    }\n",
       "\n",
       "    .dataframe tbody tr th {\n",
       "        vertical-align: top;\n",
       "    }\n",
       "\n",
       "    .dataframe thead th {\n",
       "        text-align: right;\n",
       "    }\n",
       "</style>\n",
       "<table border=\"1\" class=\"dataframe\">\n",
       "  <thead>\n",
       "    <tr style=\"text-align: right;\">\n",
       "      <th></th>\n",
       "      <th>ID</th>\n",
       "      <th>Address</th>\n",
       "      <th>Property Type</th>\n",
       "      <th>Bedrooms</th>\n",
       "      <th>Bathrooms</th>\n",
       "      <th>Sold Date</th>\n",
       "      <th>Sold Price</th>\n",
       "    </tr>\n",
       "  </thead>\n",
       "  <tbody>\n",
       "    <tr>\n",
       "      <th>0</th>\n",
       "      <td>SoldA</td>\n",
       "      <td>Sold1</td>\n",
       "      <td>Apartment</td>\n",
       "      <td>1.0</td>\n",
       "      <td>1.0</td>\n",
       "      <td>2021-12-01</td>\n",
       "      <td>150000</td>\n",
       "    </tr>\n",
       "    <tr>\n",
       "      <th>1</th>\n",
       "      <td>SoldB</td>\n",
       "      <td>Sold2</td>\n",
       "      <td>None</td>\n",
       "      <td>7.0</td>\n",
       "      <td>5.0</td>\n",
       "      <td>1998-07-05</td>\n",
       "      <td>600000</td>\n",
       "    </tr>\n",
       "    <tr>\n",
       "      <th>2</th>\n",
       "      <td>SoldC</td>\n",
       "      <td>Sold3</td>\n",
       "      <td>Terrace</td>\n",
       "      <td>NaN</td>\n",
       "      <td>NaN</td>\n",
       "      <td>2012-04-16</td>\n",
       "      <td>150000</td>\n",
       "    </tr>\n",
       "    <tr>\n",
       "      <th>3</th>\n",
       "      <td>SoldD</td>\n",
       "      <td>Sold4</td>\n",
       "      <td>Detached</td>\n",
       "      <td>4.0</td>\n",
       "      <td>NaN</td>\n",
       "      <td>NaT</td>\n",
       "      <td>475000</td>\n",
       "    </tr>\n",
       "    <tr>\n",
       "      <th>4</th>\n",
       "      <td>SoldE</td>\n",
       "      <td>Sold5</td>\n",
       "      <td>Detached</td>\n",
       "      <td>NaN</td>\n",
       "      <td>4.0</td>\n",
       "      <td>NaT</td>\n",
       "      <td>532000</td>\n",
       "    </tr>\n",
       "    <tr>\n",
       "      <th>5</th>\n",
       "      <td>SoldF</td>\n",
       "      <td>Sold6</td>\n",
       "      <td>Test</td>\n",
       "      <td>1.0</td>\n",
       "      <td>1.0</td>\n",
       "      <td>2001-01-01</td>\n",
       "      <td>101010</td>\n",
       "    </tr>\n",
       "  </tbody>\n",
       "</table>\n",
       "</div>"
      ],
      "text/plain": [
       "      ID Address Property Type  Bedrooms  Bathrooms  Sold Date  Sold Price\n",
       "0  SoldA   Sold1     Apartment       1.0        1.0 2021-12-01      150000\n",
       "1  SoldB   Sold2          None       7.0        5.0 1998-07-05      600000\n",
       "2  SoldC   Sold3       Terrace       NaN        NaN 2012-04-16      150000\n",
       "3  SoldD   Sold4      Detached       4.0        NaN        NaT      475000\n",
       "4  SoldE   Sold5      Detached       NaN        4.0        NaT      532000\n",
       "5  SoldF   Sold6          Test       1.0        1.0 2001-01-01      101010"
      ]
     },
     "execution_count": 12,
     "metadata": {},
     "output_type": "execute_result"
    }
   ],
   "source": [
    "sold_export"
   ]
  },
  {
   "cell_type": "code",
   "execution_count": 5,
   "id": "24b22d84",
   "metadata": {},
   "outputs": [
    {
     "name": "stdout",
     "output_type": "stream",
     "text": [
      "Connecting to the PostgreSQL database...\n",
      "Query executed.\n",
      "Database connection closed.\n"
     ]
    }
   ],
   "source": [
    "# Extract listings table to make predictions on\n",
    "\n",
    "listings_export = query('SELECT * FROM listings', 'listings', to_df = True)"
   ]
  },
  {
   "cell_type": "code",
   "execution_count": 6,
   "id": "2601713d",
   "metadata": {},
   "outputs": [
    {
     "data": {
      "text/html": [
       "<div>\n",
       "<style scoped>\n",
       "    .dataframe tbody tr th:only-of-type {\n",
       "        vertical-align: middle;\n",
       "    }\n",
       "\n",
       "    .dataframe tbody tr th {\n",
       "        vertical-align: top;\n",
       "    }\n",
       "\n",
       "    .dataframe thead th {\n",
       "        text-align: right;\n",
       "    }\n",
       "</style>\n",
       "<table border=\"1\" class=\"dataframe\">\n",
       "  <thead>\n",
       "    <tr style=\"text-align: right;\">\n",
       "      <th></th>\n",
       "      <th>ID</th>\n",
       "      <th>Address</th>\n",
       "      <th>Property Type</th>\n",
       "      <th>Bedrooms</th>\n",
       "      <th>Bathrooms</th>\n",
       "      <th>Listed Date</th>\n",
       "      <th>Listed Price</th>\n",
       "    </tr>\n",
       "  </thead>\n",
       "  <tbody>\n",
       "    <tr>\n",
       "      <th>0</th>\n",
       "      <td>ListedA</td>\n",
       "      <td>Test1</td>\n",
       "      <td>Detached</td>\n",
       "      <td>4</td>\n",
       "      <td>3</td>\n",
       "      <td>2023-02-15</td>\n",
       "      <td>500000</td>\n",
       "    </tr>\n",
       "    <tr>\n",
       "      <th>1</th>\n",
       "      <td>ListedB</td>\n",
       "      <td>Test2</td>\n",
       "      <td>Terrace</td>\n",
       "      <td>2</td>\n",
       "      <td>1</td>\n",
       "      <td>2022-12-22</td>\n",
       "      <td>230000</td>\n",
       "    </tr>\n",
       "    <tr>\n",
       "      <th>2</th>\n",
       "      <td>ListedC</td>\n",
       "      <td>Test3</td>\n",
       "      <td>Apartment</td>\n",
       "      <td>1</td>\n",
       "      <td>1</td>\n",
       "      <td>2023-04-11</td>\n",
       "      <td>185000</td>\n",
       "    </tr>\n",
       "    <tr>\n",
       "      <th>3</th>\n",
       "      <td>ListedD</td>\n",
       "      <td>Test4</td>\n",
       "      <td>Detached</td>\n",
       "      <td>3</td>\n",
       "      <td>2</td>\n",
       "      <td>2023-01-01</td>\n",
       "      <td>350000</td>\n",
       "    </tr>\n",
       "    <tr>\n",
       "      <th>4</th>\n",
       "      <td>ListedE</td>\n",
       "      <td>Test5</td>\n",
       "      <td>Semi-detached</td>\n",
       "      <td>3</td>\n",
       "      <td>2</td>\n",
       "      <td>2021-02-10</td>\n",
       "      <td>320000</td>\n",
       "    </tr>\n",
       "  </tbody>\n",
       "</table>\n",
       "</div>"
      ],
      "text/plain": [
       "        ID Address  Property Type  Bedrooms  Bathrooms Listed Date  \\\n",
       "0  ListedA   Test1       Detached         4          3  2023-02-15   \n",
       "1  ListedB   Test2        Terrace         2          1  2022-12-22   \n",
       "2  ListedC   Test3      Apartment         1          1  2023-04-11   \n",
       "3  ListedD   Test4       Detached         3          2  2023-01-01   \n",
       "4  ListedE   Test5  Semi-detached         3          2  2021-02-10   \n",
       "\n",
       "   Listed Price  \n",
       "0        500000  \n",
       "1        230000  \n",
       "2        185000  \n",
       "3        350000  \n",
       "4        320000  "
      ]
     },
     "execution_count": 6,
     "metadata": {},
     "output_type": "execute_result"
    }
   ],
   "source": [
    "listings_export"
   ]
  },
  {
   "cell_type": "code",
   "execution_count": 7,
   "id": "75d93027",
   "metadata": {},
   "outputs": [],
   "source": [
    "# Imagine that the export has been put through the ML Pipeline and a prediction has been made.\n",
    "\n",
    "listings_export['Prediction'] = np.random.normal(listings_export['Listed Price'], 0.1*listings_export['Listed Price']).round(2)"
   ]
  },
  {
   "cell_type": "code",
   "execution_count": 8,
   "id": "b107fd37",
   "metadata": {},
   "outputs": [],
   "source": [
    "listings_export['Value Delta'] = (listings_export['Prediction'] - listings_export['Listed Price']).round(2)"
   ]
  },
  {
   "cell_type": "code",
   "execution_count": 9,
   "id": "0924e64a",
   "metadata": {},
   "outputs": [],
   "source": [
    "listings_export_trim = listings_export[['ID', 'Prediction', 'Value Delta']]"
   ]
  },
  {
   "cell_type": "code",
   "execution_count": 10,
   "id": "9733b4f3",
   "metadata": {},
   "outputs": [
    {
     "name": "stdout",
     "output_type": "stream",
     "text": [
      "Connecting to the PostgreSQL database...\n",
      "Table predictions created\n",
      "Database connection closed.\n"
     ]
    }
   ],
   "source": [
    "# Feed predictions back into database as a new table.\n",
    "\n",
    "table_from_df(listings_export_trim,'predictions')"
   ]
  },
  {
   "cell_type": "code",
   "execution_count": null,
   "id": "67689847",
   "metadata": {},
   "outputs": [],
   "source": []
  }
 ],
 "metadata": {
  "kernelspec": {
   "display_name": "Python 3 (ipykernel)",
   "language": "python",
   "name": "python3"
  },
  "language_info": {
   "codemirror_mode": {
    "name": "ipython",
    "version": 3
   },
   "file_extension": ".py",
   "mimetype": "text/x-python",
   "name": "python",
   "nbconvert_exporter": "python",
   "pygments_lexer": "ipython3",
   "version": "3.8.16"
  }
 },
 "nbformat": 4,
 "nbformat_minor": 5
}
